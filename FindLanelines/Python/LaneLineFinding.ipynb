{
 "cells": [
  {
   "cell_type": "code",
   "execution_count": 1,
   "metadata": {},
   "outputs": [
    {
     "name": "stdout",
     "output_type": "stream",
     "text": [
      "/home/samuel/anaconda3/envs/carnd-term1/bin/python\n"
     ]
    }
   ],
   "source": [
    "import sys\n",
    "print(sys.executable)"
   ]
  },
  {
   "cell_type": "code",
   "execution_count": 2,
   "metadata": {},
   "outputs": [],
   "source": [
    "import matplotlib.pyplot as plt\n",
    "import matplotlib.image as mpimg\n",
    "import numpy as np\n",
    "import cv2\n",
    "import math"
   ]
  },
  {
   "cell_type": "code",
   "execution_count": 3,
   "metadata": {},
   "outputs": [],
   "source": [
    "%reload_ext autoreload\n",
    "%autoreload 2\n",
    "%matplotlib inline"
   ]
  },
  {
   "cell_type": "code",
   "execution_count": 5,
   "metadata": {},
   "outputs": [],
   "source": [
    "def grayscale(img):\n",
    "    return cv2.cvtColor(img, cv2.COLOR_RGB2GRAY)\n",
    "\n",
    "def canny(img, low_threshold, high_threshold):\n",
    "    return cv2.Canny(img, low_threshold, high_threshold)\n",
    "\n",
    "\n",
    "def gaussian_blur(img, kernel_size):\n",
    "    return cv2.GaussianBlur(img, (kernel_size, kernel_size), 0)\n",
    "\n",
    "def region_of_interest(img, vertices):\n",
    "    mask = np.zeros_like(img)\n",
    "    if (len(img.shape) > 2):\n",
    "        channel_count = img.shape[2]\n",
    "        ignore_mask_color = (255,)*channel_count\n",
    "    else:\n",
    "        ignore_mask_color = 255\n",
    "    \n",
    "    cv2.fillPoly(mask, vertices, ignore_mask_color)\n",
    "    \n",
    "    masked_img = cv2.bitwise_and(img, mask)\n",
    "    return masked_img"
   ]
  },
  {
   "cell_type": "code",
   "execution_count": 6,
   "metadata": {},
   "outputs": [],
   "source": [
    "def get_lines(lines, color=[255, 0, 0]):\n",
    "    right_lines = []\n",
    "    left_lines = []\n",
    "    for line in lines:\n",
    "        x1, y1, x2, y2 = line.reshape(4)\n",
    "        y = y2 - y1\n",
    "        x = x2 - x1\n",
    "        slope = y / x\n",
    "        if slope < -0.1:\n",
    "            right_lines.append(line)\n",
    "        elif slope > 0.1:\n",
    "            left_lines.append(line)\n",
    "    return right_lines, left_lines"
   ]
  },
  {
   "cell_type": "code",
   "execution_count": 7,
   "metadata": {},
   "outputs": [],
   "source": [
    "def get_points(lines):\n",
    "    points = []\n",
    "    for line in lines:\n",
    "        x1, y1, x2, y2 = line.reshape(4)\n",
    "        points.append((x1, y1))\n",
    "        points.append((x2, y2))\n",
    "    points = np.array(points)\n",
    "    return points"
   ]
  },
  {
   "cell_type": "code",
   "execution_count": 8,
   "metadata": {},
   "outputs": [],
   "source": [
    "def draw_lines(img, right_points, left_points, color=[255, 0, 0], thickness=5):\n",
    "    \n",
    "    right_line = cv2.fitLine(np.array(right_points), cv2.DIST_L2, 0, 0.01, 0.01)\n",
    "    left_line = cv2.fitLine(np.array(left_points), cv2.DIST_L2, 0, 0.01, 0.01)\n",
    "    \n",
    "    right_m = right_line[1] / right_line[0]\n",
    "    \n",
    "    left_m = left_line[1] / left_line[0]\n",
    "    y_ini = img.shape[0]\n",
    "    y_fin = img.shape[0] / 1.6\n",
    "\n",
    "    \n",
    "    right_ini_x = ((y_ini - right_line[3]) / right_m) + right_line[2]\n",
    "    right_fin_x = ((y_fin - right_line[3]) / right_m) + right_line[2]\n",
    "    \n",
    "    left_ini_x = ((y_ini - left_line[3]) / left_m) + left_line[2]\n",
    "    left_fin_x = ((y_fin - left_line[3]) / left_m) + left_line[2]\n",
    "    \n",
    "    cv2.line(img, (right_ini_x, y_ini), (right_fin_x, int(y_fin)), color, thickness)\n",
    "    cv2.line(img, (left_ini_x, y_ini), (left_fin_x, int(y_fin)), color, thickness)"
   ]
  },
  {
   "cell_type": "code",
   "execution_count": 9,
   "metadata": {},
   "outputs": [],
   "source": [
    "def hough_lines(img, rho, theta, threshold, min_line_len, max_line_gap):\n",
    "    lines = cv2.HoughLinesP(img, rho, theta, threshold, np.array([]),minLineLength=min_line_len, maxLineGap=max_line_gap)\n",
    "    line_img = np.zeros((img.shape[0], img.shape[1], 3), dtype=np.uint8)\n",
    "    right_lines, left_lines = get_lines(lines)\n",
    "    right_points = get_points(right_lines)\n",
    "    left_points = get_points(left_lines)\n",
    "    draw_lines(line_img, right_points, left_points)\n",
    "    return line_img\n",
    "\n",
    "\n",
    "def weighted_img(img, initial_img, alpha=0.8, beta=1., gamma = 0.):\n",
    "    return cv2.addWeighted(initial_img, alpha, img,  beta, gamma)"
   ]
  },
  {
   "cell_type": "code",
   "execution_count": 10,
   "metadata": {},
   "outputs": [],
   "source": [
    "initial_img = mpimg.imread(\"../test_images/solidYellowLeft.jpg\")"
   ]
  },
  {
   "cell_type": "code",
   "execution_count": 11,
   "metadata": {},
   "outputs": [],
   "source": [
    "def pipeline(img):\n",
    "    img = grayscale(img)\n",
    "    img = canny(img, 50, 150)\n",
    "    img = gaussian_blur(img, 5)\n",
    "    vertices = np.array([[(0, img.shape[0]), \n",
    "                      (470, 300),\n",
    "                      (490, 300),\n",
    "                      (img.shape[1] + 80, img.shape[0])]])\n",
    "    masked_img = region_of_interest(img, vertices)\n",
    "    lines_img = hough_lines(masked_img, 2, np.pi / 180, 50, 10, 250)\n",
    "    final = weighted_img(lines_img, initial_img)\n",
    "    return final"
   ]
  },
  {
   "cell_type": "code",
   "execution_count": 12,
   "metadata": {},
   "outputs": [],
   "source": [
    "final = pipeline(initial_img)"
   ]
  },
  {
   "cell_type": "code",
   "execution_count": 13,
   "metadata": {},
   "outputs": [],
   "source": [
    "# Import everything needed to edit/save/watch video clips\n",
    "from moviepy.editor import VideoFileClip\n",
    "from IPython.display import HTML"
   ]
  },
  {
   "cell_type": "code",
   "execution_count": 14,
   "metadata": {},
   "outputs": [],
   "source": [
    "def process_image(initial_img):\n",
    "    # NOTE: The output you return should be a color image (3 channel) for processing video below\n",
    "    # TODO: put your pipeline here,\n",
    "    # you should return the final output (image where lines are drawn on lanes)\n",
    "    img = grayscale(initial_img)\n",
    "    img = canny(img, 50, 150)\n",
    "    img = gaussian_blur(img, 5)\n",
    "    vertices = np.array([[(0, img.shape[0]), \n",
    "                      (470, 300),\n",
    "                      (490, 300),\n",
    "                      (img.shape[1] + 80, img.shape[0])]])\n",
    "    img = region_of_interest(img, vertices)\n",
    "    img = hough_lines(img, 2, np.pi / 180, 50, 10, 250)\n",
    "    img = weighted_img(img, initial_img)\n",
    "    return img"
   ]
  },
  {
   "cell_type": "code",
   "execution_count": 23,
   "metadata": {},
   "outputs": [],
   "source": [
    "video_capture = cv2.VideoCapture('../test_videos/solidYellowLeft.mp4')\n",
    "while (video_capture.isOpened()):\n",
    "    ret, frame = video_capture.read()\n",
    "    if ret:\n",
    "        output = process_image(frame)\n",
    "        cv2.imshow('frame',output)\n",
    "        if cv2.waitKey(1) & 0xFF == ord('q'):\n",
    "            break\n",
    "    else:\n",
    "        break\n",
    "# Release everything if job is finished\n",
    "video_capture.release()\n",
    "cv2.destroyAllWindows()"
   ]
  },
  {
   "cell_type": "code",
   "execution_count": null,
   "metadata": {},
   "outputs": [],
   "source": []
  },
  {
   "cell_type": "code",
   "execution_count": 15,
   "metadata": {},
   "outputs": [
    {
     "name": "stderr",
     "output_type": "stream",
     "text": [
      "t:   6%|▌         | 13/221 [00:00<00:01, 128.15it/s, now=None]"
     ]
    },
    {
     "name": "stdout",
     "output_type": "stream",
     "text": [
      "Moviepy - Building video ../test_videos_output/solidWhiteRight.mp4.\n",
      "Moviepy - Writing video ../test_videos_output/solidWhiteRight.mp4\n",
      "\n"
     ]
    },
    {
     "name": "stderr",
     "output_type": "stream",
     "text": [
      "                                                              \r"
     ]
    },
    {
     "name": "stdout",
     "output_type": "stream",
     "text": [
      "Moviepy - Done !\n",
      "Moviepy - video ready ../test_videos_output/solidWhiteRight.mp4\n",
      "CPU times: user 3.21 s, sys: 137 ms, total: 3.34 s\n",
      "Wall time: 2.47 s\n"
     ]
    }
   ],
   "source": [
    "white_output = '../test_videos_output/solidWhiteRight.mp4'\n",
    "## To speed up the testing process you may want to try your pipeline on a shorter subclip of the video\n",
    "## To do so add .subclip(start_second,end_second) to the end of the line below\n",
    "## Where start_second and end_second are integer values representing the start and end of the subclip\n",
    "## You may also uncomment the following line for a subclip of the first 5 seconds\n",
    "##clip1 = VideoFileClip(\"test_videos/solidWhiteRight.mp4\").subclip(0,5)\n",
    "clip1 = VideoFileClip(\"../test_videos/solidWhiteRight.mp4\")\n",
    "white_clip = clip1.fl_image(process_image) #NOTE: this function expects color images!!\n",
    "%time white_clip.write_videofile(white_output, audio=False)"
   ]
  },
  {
   "cell_type": "code",
   "execution_count": 17,
   "metadata": {},
   "outputs": [
    {
     "name": "stderr",
     "output_type": "stream",
     "text": [
      "t:   2%|▏         | 14/681 [00:00<00:05, 130.35it/s, now=None]"
     ]
    },
    {
     "name": "stdout",
     "output_type": "stream",
     "text": [
      "Moviepy - Building video ../test_videos_output/solidYellowLeft.mp4.\n",
      "Moviepy - Writing video ../test_videos_output/solidYellowLeft.mp4\n",
      "\n"
     ]
    },
    {
     "name": "stderr",
     "output_type": "stream",
     "text": [
      "                                                               \r"
     ]
    },
    {
     "name": "stdout",
     "output_type": "stream",
     "text": [
      "Moviepy - Done !\n",
      "Moviepy - video ready ../test_videos_output/solidYellowLeft.mp4\n",
      "CPU times: user 10.4 s, sys: 311 ms, total: 10.7 s\n",
      "Wall time: 7.27 s\n"
     ]
    }
   ],
   "source": [
    "yellow_output = '../test_videos_output/solidYellowLeft.mp4'\n",
    "## To speed up the testing process you may want to try your pipeline on a shorter subclip of the video\n",
    "## To do so add .subclip(start_second,end_second) to the end of the line below\n",
    "## Where start_second and end_second are integer values representing the start and end of the subclip\n",
    "## You may also uncomment the following line for a subclip of the first 5 seconds\n",
    "##clip2 = VideoFileClip('test_videos/solidYellowLeft.mp4').subclip(0,5)\n",
    "clip2 = VideoFileClip('../test_videos/solidYellowLeft.mp4')\n",
    "yellow_clip = clip2.fl_image(process_image)\n",
    "%time yellow_clip.write_videofile(yellow_output, audio=False)"
   ]
  },
  {
   "cell_type": "code",
   "execution_count": null,
   "metadata": {},
   "outputs": [],
   "source": []
  },
  {
   "cell_type": "code",
   "execution_count": null,
   "metadata": {},
   "outputs": [],
   "source": []
  },
  {
   "cell_type": "code",
   "execution_count": null,
   "metadata": {},
   "outputs": [],
   "source": []
  },
  {
   "cell_type": "code",
   "execution_count": null,
   "metadata": {},
   "outputs": [],
   "source": []
  },
  {
   "cell_type": "code",
   "execution_count": null,
   "metadata": {},
   "outputs": [],
   "source": []
  }
 ],
 "metadata": {
  "kernelspec": {
   "display_name": "carnd-term1",
   "language": "python",
   "name": "carnd-term1"
  },
  "language_info": {
   "codemirror_mode": {
    "name": "ipython",
    "version": 3
   },
   "file_extension": ".py",
   "mimetype": "text/x-python",
   "name": "python",
   "nbconvert_exporter": "python",
   "pygments_lexer": "ipython3",
   "version": "3.5.2"
  },
  "widgets": {
   "state": {},
   "version": "1.1.2"
  }
 },
 "nbformat": 4,
 "nbformat_minor": 2
}
